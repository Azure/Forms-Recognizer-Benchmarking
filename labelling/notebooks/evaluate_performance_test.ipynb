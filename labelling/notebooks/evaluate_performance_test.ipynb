{
  "cells": [
    {
      "cell_type": "code",
      "source": [
        "import pandas as pd\n",
        "import numpy as np\n",
        "import matplotlib.pyplot as plt\n",
        "from fuzzywuzzy import fuzz"
      ],
      "outputs": [],
      "execution_count": null,
      "metadata": {}
    },
    {
      "cell_type": "code",
      "source": [
        "def fuzzy_score(text, value):\n",
        "    \"\"\"\n",
        "    Function for fuzzy matching given two strings\n",
        "\n",
        "    Args:\n",
        "        text (string): ocr data text\n",
        "        value (string): entity label\n",
        "\n",
        "    Returns:\n",
        "        float : Fuzzy match score\n",
        "    \"\"\"\n",
        "\n",
        "    return fuzz.ratio(text, value)"
      ],
      "outputs": [],
      "execution_count": null,
      "metadata": {}
    },
    {
      "cell_type": "code",
      "source": [
        "extracted_vals = pd.read_csv(\"../eval_tables/FR_extracts/forms_recognizer_prediction_files.csv\")\n",
        "ground_truth = pd.read_csv(\"../eval_tables/GT_annotations/ground_truth_files.csv\")\n",
        "\n",
        "combined_df = extracted_vals.merge(ground_truth, left_on=\"bbox_formatted\", right_on=\"bbox_formatted\", suffixes=[\"_extracted\", \"_ground_truth\"])\n",
        "combined_df[\"word_similarity\"] = [fuzzy_score(combined_df[\"text_extracted\"][i], combined_df[\"text_ground_truth\"][i]) for i in range(len(combined_df))]"
      ],
      "outputs": [],
      "execution_count": null,
      "metadata": {}
    },
    {
      "cell_type": "code",
      "source": [
        "extracted_vals[[\"confidence\", \"filename\"]].groupby(\"filename\").mean()"
      ],
      "outputs": [],
      "execution_count": null,
      "metadata": {}
    },
    {
      "cell_type": "code",
      "source": [
        "combined_df[combined_df.word_similarity != 100]"
      ],
      "outputs": [],
      "execution_count": null,
      "metadata": {}
    },
    {
      "cell_type": "code",
      "source": [
        "combined_df[[\"word_similarity\", \"filename_extracted\"]].groupby(\"filename_extracted\").mean()"
      ],
      "outputs": [],
      "execution_count": null,
      "metadata": {}
    }
  ],
  "metadata": {
    "kernelspec": {
      "name": "python3",
      "language": "python",
      "display_name": "Python 3 (ipykernel)"
    },
    "language_info": {
      "name": "python",
      "version": "3.8.5",
      "mimetype": "text/x-python",
      "codemirror_mode": {
        "name": "ipython",
        "version": 3
      },
      "pygments_lexer": "ipython3",
      "nbconvert_exporter": "python",
      "file_extension": ".py"
    },
    "vscode": {
      "interpreter": {
        "hash": "7013818eacae818f3940355a4bc23a5b5e4daa7053faee37a40d29ac79fa390b"
      }
    },
    "kernel_info": {
      "name": "python3"
    },
    "nteract": {
      "version": "nteract-front-end@1.0.0"
    }
  },
  "nbformat": 4,
  "nbformat_minor": 2
}