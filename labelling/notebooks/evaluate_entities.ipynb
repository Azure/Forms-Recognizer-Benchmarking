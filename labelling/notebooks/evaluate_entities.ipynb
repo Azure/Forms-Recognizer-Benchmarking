{
  "cells": [
    {
      "cell_type": "code",
      "execution_count": 1,
      "metadata": {
        "gather": {
          "logged": 1668060617638
        },
        "jupyter": {
          "outputs_hidden": false,
          "source_hidden": false
        },
        "nteract": {
          "transient": {
            "deleting": false
          }
        }
      },
      "outputs": [
        {
          "name": "stderr",
          "output_type": "stream",
          "text": [
            "/anaconda/envs/azureml_py38/lib/python3.8/site-packages/fuzzywuzzy/fuzz.py:11: UserWarning: Using slow pure-python SequenceMatcher. Install python-Levenshtein to remove this warning\n",
            "  warnings.warn('Using slow pure-python SequenceMatcher. Install python-Levenshtein to remove this warning')\n"
          ]
        }
      ],
      "source": [
        "import json\n",
        "import pandas as pd\n",
        "import numpy as np\n",
        "import os\n",
        "os.chdir(\"../\")\n",
        "from utils import *\n",
        "import re\n",
        "\n",
        "import glob\n",
        "import itertools\n",
        "from PIL import Image\n",
        "from fuzzywuzzy import fuzz"
      ]
    },
    {
      "cell_type": "code",
      "execution_count": 2,
      "metadata": {
        "gather": {
          "logged": 1668060620239
        },
        "jupyter": {
          "outputs_hidden": false,
          "source_hidden": false
        },
        "nteract": {
          "transient": {
            "deleting": false
          }
        }
      },
      "outputs": [],
      "source": [
        "def fuzzy_score(text, value):\n",
        "    \"\"\"\n",
        "    Function for fuzzy matching given two strings\n",
        "\n",
        "    Args:\n",
        "        text (string): ocr data text\n",
        "        value (string): entity label\n",
        "\n",
        "    Returns:\n",
        "        float : Fuzzy match score\n",
        "    \"\"\"\n",
        "\n",
        "    return fuzz.ratio(text, value)"
      ]
    },
    {
      "cell_type": "code",
      "execution_count": 3,
      "metadata": {
        "gather": {
          "logged": 1668060621778
        },
        "jupyter": {
          "outputs_hidden": false,
          "source_hidden": false
        },
        "nteract": {
          "transient": {
            "deleting": false
          }
        }
      },
      "outputs": [],
      "source": [
        "source_folder = '../../test_data/'\n",
        "\n",
        "gt_labels = glob.glob(f'{source_folder}test_labels/*labels.json')\n",
        "predicted_labels = glob.glob(f'{source_folder}test_outputs/*.json')\n",
        "images_test = [glob.glob(e) for e in [f'{source_folder}test_images/*.jpeg', f'{source_folder}test_images/*.PNG', f'{source_folder}test_images/*.png']]\n",
        "images_test = list(itertools.chain(*images_test)) #flatten the list\n",
        "\n",
        "\n",
        "idx = 0\n",
        "filename_gt = gt_labels[idx]\n",
        "filename_label = predicted_labels[idx]\n",
        "test_img = images_test[idx]\n",
        "\n",
        "\n",
        "with open(f\"./{filename_gt}\", 'r', encoding=\"utf8\") as f:\n",
        "    data_label = json.load(f)\n",
        "\n",
        "with open(f\"./{filename_label}\", 'r', encoding=\"utf8\") as f:\n",
        "    data_predicted = json.load(f)\n",
        "\n",
        "\n",
        "img = Image.open(test_img)\n",
        "width, height = img.size\n",
        "\n",
        "\n",
        "assert len(gt_labels) == len(predicted_labels) == len(images_test)\n"
      ]
    },
    {
      "cell_type": "code",
      "execution_count": 26,
      "metadata": {
        "gather": {
          "logged": 1668061231696
        },
        "jupyter": {
          "outputs_hidden": false,
          "source_hidden": false
        },
        "nteract": {
          "transient": {
            "deleting": false
          }
        }
      },
      "outputs": [],
      "source": [
        "df = parse_text_ocr_entities(data_predicted)\n",
        "\n",
        "#CREATE CONSISTENCY FOR THE CATEGORIES DURING LABELLING\n",
        "category_mapping_output = {\"From\": \"Exporter Name\",\n",
        "\"To\": \"Recipient Name\",\n",
        "}\n",
        "\n",
        "df = df.replace({\"level\": category_mapping_output})\n",
        "df = df.replace('\\n',' ', regex=True) #clean up some messy strings"
      ]
    },
    {
      "cell_type": "code",
      "execution_count": 6,
      "metadata": {
        "gather": {
          "logged": 1668060633242
        },
        "jupyter": {
          "outputs_hidden": false,
          "source_hidden": false
        },
        "nteract": {
          "transient": {
            "deleting": false
          }
        }
      },
      "outputs": [],
      "source": [
        "base_data = data_label[\"labels\"]\n",
        "\n",
        "#Parse original output\n",
        "page_list2, text_list2,bb_list2, level_cat = parse_text_labels(base_data)\n",
        "\n",
        "# Format text into target format per page\n",
        "df2 = pd.DataFrame([page_list2, text_list2,bb_list2, level_cat]).T\n",
        "df2.columns = [\"page\", \"text\",\"bbox\", \"level\"]\n",
        "df_label = df2.copy()\n",
        "\n",
        "# convert bounding boxes\n",
        "df_label[\"bbox_formatted\"] = [convert_inches_pixel_normalized_vector(list(df_label[\"bbox\"].iloc[i]), pixel_conv_x=width, pixel_conv_y=height) for i in range(len(df_label))]\n",
        "\n",
        "\n",
        "# Iterate by page\n",
        "text_by_page_formatted_label = []\n",
        "for i in df_label[\"page\"].unique():\n",
        "    df_label_page= df_label[df_label.page == i]\n",
        "    text_by_page_formatted_label.append([format_json_sublevel_label(df_label_page, u) for u in range(len(df_label_page))])"
      ]
    },
    {
      "cell_type": "code",
      "execution_count": 8,
      "metadata": {
        "gather": {
          "logged": 1668060637889
        },
        "jupyter": {
          "outputs_hidden": false,
          "source_hidden": false
        },
        "nteract": {
          "transient": {
            "deleting": false
          }
        }
      },
      "outputs": [],
      "source": [
        "# #CREATE CONSISTENCY FOR THE CATEGORIES DURING LABELLING\n",
        "# category_mapping = {\"\"}\n",
        "\n",
        "# df_label = df_label.replace({\"level\": category_mapping})"
      ]
    },
    {
      "cell_type": "code",
      "execution_count": 9,
      "metadata": {
        "gather": {
          "logged": 1668060645055
        },
        "jupyter": {
          "outputs_hidden": false,
          "source_hidden": false
        },
        "nteract": {
          "transient": {
            "deleting": false
          }
        }
      },
      "outputs": [],
      "source": [
        "combined_df = df.merge(df_label, how=\"outer\", left_on=\"level\", right_on=\"level\", suffixes=[\"_predicted\", \"_ground_truth\"]).drop(columns=[\"bbox_predicted\", \"bbox_ground_truth\"])\n"
      ]
    },
    {
      "cell_type": "code",
      "execution_count": 10,
      "metadata": {
        "gather": {
          "logged": 1668060646190
        },
        "jupyter": {
          "outputs_hidden": false,
          "source_hidden": false
        },
        "nteract": {
          "transient": {
            "deleting": false
          }
        }
      },
      "outputs": [
        {
          "data": {
            "text/html": [
              "<div>\n",
              "<style scoped>\n",
              "    .dataframe tbody tr th:only-of-type {\n",
              "        vertical-align: middle;\n",
              "    }\n",
              "\n",
              "    .dataframe tbody tr th {\n",
              "        vertical-align: top;\n",
              "    }\n",
              "\n",
              "    .dataframe thead th {\n",
              "        text-align: right;\n",
              "    }\n",
              "</style>\n",
              "<table border=\"1\" class=\"dataframe\">\n",
              "  <thead>\n",
              "    <tr style=\"text-align: right;\">\n",
              "      <th></th>\n",
              "      <th>level</th>\n",
              "      <th>text_ground_truth</th>\n",
              "      <th>page</th>\n",
              "      <th>text</th>\n",
              "      <th>bbox</th>\n",
              "      <th>confidence</th>\n",
              "      <th>bbox_formatted</th>\n",
              "      <th>word_similarity</th>\n",
              "    </tr>\n",
              "  </thead>\n",
              "  <tbody>\n",
              "    <tr>\n",
              "      <th>0</th>\n",
              "      <td>Customs Declaration Description</td>\n",
              "      <td></td>\n",
              "      <td>1</td>\n",
              "      <td>I checked that contents above are not dangerou...</td>\n",
              "      <td>[290, 237, 321, 237, 321, 786, 290, 786]</td>\n",
              "      <td>0.626</td>\n",
              "      <td>[290, 237, 31, 549]</td>\n",
              "      <td>1</td>\n",
              "    </tr>\n",
              "    <tr>\n",
              "      <th>1</th>\n",
              "      <td>Exporter Address</td>\n",
              "      <td>SERIGAYA3-23-16 YOKOHAMA SHI KONAN KU Kanagawa</td>\n",
              "      <td>1</td>\n",
              "      <td>SERIGAYA3-23-16 YOKOHAMA SHI KONAN KU Kanagawa</td>\n",
              "      <td>[915, 246, 1010, 246, 1010, 596, 915, 596]</td>\n",
              "      <td>0.321</td>\n",
              "      <td>[915, 246, 95, 350]</td>\n",
              "      <td>100</td>\n",
              "    </tr>\n",
              "    <tr>\n",
              "      <th>2</th>\n",
              "      <td>Exporter Name</td>\n",
              "      <td>Hideo Ogino</td>\n",
              "      <td>1</td>\n",
              "      <td>Hideo Ogino</td>\n",
              "      <td>[1003, 251, 1039, 251, 1039, 433, 1003, 433]</td>\n",
              "      <td>0.855</td>\n",
              "      <td>[1003, 251, 36, 182]</td>\n",
              "      <td>100</td>\n",
              "    </tr>\n",
              "    <tr>\n",
              "      <th>3</th>\n",
              "      <td>Quantity</td>\n",
              "      <td></td>\n",
              "      <td>1</td>\n",
              "      <td>T shirt 3 rice cracker 1 rice cracker 2 snacks...</td>\n",
              "      <td>[380, 201, 605, 201, 605, 1190, 380, 1190]</td>\n",
              "      <td>0.265</td>\n",
              "      <td>[380, 201, 225, 989]</td>\n",
              "      <td>3</td>\n",
              "    </tr>\n",
              "    <tr>\n",
              "      <th>4</th>\n",
              "      <td>Recipient Address</td>\n",
              "      <td>10/25-27 SUBWAY ROAD ROOKDAIE SYDNEY NSW2216</td>\n",
              "      <td>1</td>\n",
              "      <td>10/25-27 SUBWAY ROAD ROOKDAIE SYDNEY NSW2216</td>\n",
              "      <td>[853, 972, 907, 972, 907, 1270, 853, 1270]</td>\n",
              "      <td>0.5</td>\n",
              "      <td>[853, 972, 54, 298]</td>\n",
              "      <td>100</td>\n",
              "    </tr>\n",
              "    <tr>\n",
              "      <th>5</th>\n",
              "      <td>Recipient Email Address</td>\n",
              "      <td></td>\n",
              "      <td></td>\n",
              "      <td></td>\n",
              "      <td></td>\n",
              "      <td></td>\n",
              "      <td></td>\n",
              "      <td>100</td>\n",
              "    </tr>\n",
              "    <tr>\n",
              "      <th>6</th>\n",
              "      <td>Recipient Mobile Phone Number</td>\n",
              "      <td>053 323 7618</td>\n",
              "      <td>1</td>\n",
              "      <td>UTEL 053 323 7618</td>\n",
              "      <td>[598, 1452, 638, 1452, 638, 1789, 598, 1789]</td>\n",
              "      <td>0.764</td>\n",
              "      <td>[598, 1452, 40, 337]</td>\n",
              "      <td>83</td>\n",
              "    </tr>\n",
              "    <tr>\n",
              "      <th>7</th>\n",
              "      <td>Recipient Name</td>\n",
              "      <td>Khamrar sa Mizue</td>\n",
              "      <td>1</td>\n",
              "      <td>Khamrar sa Mizue</td>\n",
              "      <td>[901, 972, 928, 972, 928, 1167, 901, 1167]</td>\n",
              "      <td>0.864</td>\n",
              "      <td>[901, 972, 27, 195]</td>\n",
              "      <td>100</td>\n",
              "    </tr>\n",
              "    <tr>\n",
              "      <th>8</th>\n",
              "      <td>Value</td>\n",
              "      <td></td>\n",
              "      <td>1</td>\n",
              "      <td>JPY4500 JPY350 JPY400 JPY270 JPY90</td>\n",
              "      <td>[382, 1375, 580, 1375, 580, 1458, 382, 1458]</td>\n",
              "      <td>0</td>\n",
              "      <td>[382, 1375, 198, 83]</td>\n",
              "      <td>6</td>\n",
              "    </tr>\n",
              "    <tr>\n",
              "      <th>9</th>\n",
              "      <td>Weight</td>\n",
              "      <td></td>\n",
              "      <td></td>\n",
              "      <td></td>\n",
              "      <td></td>\n",
              "      <td></td>\n",
              "      <td></td>\n",
              "      <td>100</td>\n",
              "    </tr>\n",
              "  </tbody>\n",
              "</table>\n",
              "</div>"
            ],
            "text/plain": [
              "                             level  \\\n",
              "0  Customs Declaration Description   \n",
              "1                 Exporter Address   \n",
              "2                    Exporter Name   \n",
              "3                         Quantity   \n",
              "4                Recipient Address   \n",
              "5          Recipient Email Address   \n",
              "6    Recipient Mobile Phone Number   \n",
              "7                   Recipient Name   \n",
              "8                            Value   \n",
              "9                           Weight   \n",
              "\n",
              "                                text_ground_truth page  \\\n",
              "0                                                    1   \n",
              "1  SERIGAYA3-23-16 YOKOHAMA SHI KONAN KU Kanagawa    1   \n",
              "2                                     Hideo Ogino    1   \n",
              "3                                                    1   \n",
              "4    10/25-27 SUBWAY ROAD ROOKDAIE SYDNEY NSW2216    1   \n",
              "5                                                        \n",
              "6                                    053 323 7618    1   \n",
              "7                                Khamrar sa Mizue    1   \n",
              "8                                                    1   \n",
              "9                                                        \n",
              "\n",
              "                                                text  \\\n",
              "0  I checked that contents above are not dangerou...   \n",
              "1     SERIGAYA3-23-16 YOKOHAMA SHI KONAN KU Kanagawa   \n",
              "2                                        Hideo Ogino   \n",
              "3  T shirt 3 rice cracker 1 rice cracker 2 snacks...   \n",
              "4       10/25-27 SUBWAY ROAD ROOKDAIE SYDNEY NSW2216   \n",
              "5                                                      \n",
              "6                                  UTEL 053 323 7618   \n",
              "7                                   Khamrar sa Mizue   \n",
              "8                 JPY4500 JPY350 JPY400 JPY270 JPY90   \n",
              "9                                                      \n",
              "\n",
              "                                           bbox confidence  \\\n",
              "0      [290, 237, 321, 237, 321, 786, 290, 786]      0.626   \n",
              "1    [915, 246, 1010, 246, 1010, 596, 915, 596]      0.321   \n",
              "2  [1003, 251, 1039, 251, 1039, 433, 1003, 433]      0.855   \n",
              "3    [380, 201, 605, 201, 605, 1190, 380, 1190]      0.265   \n",
              "4    [853, 972, 907, 972, 907, 1270, 853, 1270]        0.5   \n",
              "5                                                            \n",
              "6  [598, 1452, 638, 1452, 638, 1789, 598, 1789]      0.764   \n",
              "7    [901, 972, 928, 972, 928, 1167, 901, 1167]      0.864   \n",
              "8  [382, 1375, 580, 1375, 580, 1458, 382, 1458]          0   \n",
              "9                                                            \n",
              "\n",
              "         bbox_formatted  word_similarity  \n",
              "0   [290, 237, 31, 549]                1  \n",
              "1   [915, 246, 95, 350]              100  \n",
              "2  [1003, 251, 36, 182]              100  \n",
              "3  [380, 201, 225, 989]                3  \n",
              "4   [853, 972, 54, 298]              100  \n",
              "5                                    100  \n",
              "6  [598, 1452, 40, 337]               83  \n",
              "7   [901, 972, 27, 195]              100  \n",
              "8  [382, 1375, 198, 83]                6  \n",
              "9                                    100  "
            ]
          },
          "execution_count": 10,
          "metadata": {},
          "output_type": "execute_result"
        }
      ],
      "source": [
        "tt = combined_df[['text_ground_truth','level']].fillna(\" \")\n",
        "tt = tt.groupby(['level'], as_index=False).agg({'text_ground_truth': ' '.join})\n",
        "tt = tt.merge(df, how=\"outer\", left_on=\"level\", right_on=\"level\")\n",
        "tt = tt.fillna(\" \")\n",
        "tt[\"word_similarity\"] = [fuzzy_score(tt[\"text_ground_truth\"][i], tt[\"text\"][i]) for i in range(len(tt))]\n",
        "tt"
      ]
    }
  ],
  "metadata": {
    "kernel_info": {
      "name": "python3"
    },
    "kernelspec": {
      "display_name": "Python 3 (ipykernel)",
      "language": "python",
      "name": "python3"
    },
    "language_info": {
      "codemirror_mode": {
        "name": "ipython",
        "version": 3
      },
      "file_extension": ".py",
      "mimetype": "text/x-python",
      "name": "python",
      "nbconvert_exporter": "python",
      "pygments_lexer": "ipython3",
      "version": "3.8.5"
    },
    "microsoft": {
      "host": {
        "AzureML": {
          "notebookHasBeenCompleted": true
        }
      }
    },
    "nteract": {
      "version": "nteract-front-end@1.0.0"
    },
    "vscode": {
      "interpreter": {
        "hash": "7013818eacae818f3940355a4bc23a5b5e4daa7053faee37a40d29ac79fa390b"
      }
    }
  },
  "nbformat": 4,
  "nbformat_minor": 2
}
