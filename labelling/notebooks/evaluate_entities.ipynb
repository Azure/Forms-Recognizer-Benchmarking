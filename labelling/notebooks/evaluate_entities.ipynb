{
  "cells": [
    {
      "cell_type": "code",
      "execution_count": null,
      "metadata": {
        "gather": {
          "logged": 1668060617638
        },
        "jupyter": {
          "outputs_hidden": false,
          "source_hidden": false
        },
        "nteract": {
          "transient": {
            "deleting": false
          }
        }
      },
      "outputs": [],
      "source": [
        "import json\n",
        "import pandas as pd\n",
        "import numpy as np\n",
        "import os\n",
        "os.chdir(\"../\")\n",
        "from utils import *\n",
        "import re\n",
        "\n",
        "import glob\n",
        "import itertools\n",
        "from PIL import Image\n",
        "from fuzzywuzzy import fuzz"
      ]
    },
    {
      "cell_type": "code",
      "execution_count": null,
      "metadata": {
        "gather": {
          "logged": 1668060620239
        },
        "jupyter": {
          "outputs_hidden": false,
          "source_hidden": false
        },
        "nteract": {
          "transient": {
            "deleting": false
          }
        }
      },
      "outputs": [],
      "source": [
        "def fuzzy_score(text, value):\n",
        "    \"\"\"\n",
        "    Function for fuzzy matching given two strings\n",
        "\n",
        "    Args:\n",
        "        text (string): ocr data text\n",
        "        value (string): entity label\n",
        "\n",
        "    Returns:\n",
        "        float : Fuzzy match score\n",
        "    \"\"\"\n",
        "\n",
        "    return fuzz.ratio(text, value)"
      ]
    },
    {
      "cell_type": "code",
      "execution_count": null,
      "metadata": {
        "gather": {
          "logged": 1668060621778
        },
        "jupyter": {
          "outputs_hidden": false,
          "source_hidden": false
        },
        "nteract": {
          "transient": {
            "deleting": false
          }
        }
      },
      "outputs": [],
      "source": [
        "source_folder = '../../test_data/'\n",
        "\n",
        "gt_labels = glob.glob(f'{source_folder}test_labels/*labels.json')\n",
        "predicted_labels = glob.glob(f'{source_folder}test_outputs/*.json')\n",
        "images_test = [glob.glob(e) for e in [f'{source_folder}test_images/*.jpeg', f'{source_folder}test_images/*.PNG', f'{source_folder}test_images/*.png']]\n",
        "images_test = list(itertools.chain(*images_test)) #flatten the list\n",
        "\n",
        "\n",
        "idx = 0\n",
        "filename_gt = gt_labels[idx]\n",
        "filename_label = predicted_labels[idx]\n",
        "test_img = images_test[idx]\n",
        "\n",
        "\n",
        "with open(f\"./{filename_gt}\", 'r', encoding=\"utf8\") as f:\n",
        "    data_label = json.load(f)\n",
        "\n",
        "with open(f\"./{filename_label}\", 'r', encoding=\"utf8\") as f:\n",
        "    data_predicted = json.load(f)\n",
        "\n",
        "\n",
        "img = Image.open(test_img)\n",
        "width, height = img.size\n",
        "\n",
        "\n",
        "assert len(gt_labels) == len(predicted_labels) == len(images_test)\n"
      ]
    },
    {
      "cell_type": "code",
      "execution_count": null,
      "metadata": {
        "gather": {
          "logged": 1668061231696
        },
        "jupyter": {
          "outputs_hidden": false,
          "source_hidden": false
        },
        "nteract": {
          "transient": {
            "deleting": false
          }
        }
      },
      "outputs": [],
      "source": [
        "df = parse_text_ocr_entities(data_predicted)\n",
        "\n",
        "#CREATE CONSISTENCY FOR THE CATEGORIES DURING LABELLING\n",
        "category_mapping_output = {\"From\": \"Exporter Name\",\n",
        "\"To\": \"Recipient Name\",\n",
        "}\n",
        "\n",
        "df = df.replace({\"level\": category_mapping_output})\n",
        "df = df.replace('\\n',' ', regex=True) #clean up some messy strings"
      ]
    },
    {
      "cell_type": "code",
      "execution_count": null,
      "metadata": {
        "gather": {
          "logged": 1668060633242
        },
        "jupyter": {
          "outputs_hidden": false,
          "source_hidden": false
        },
        "nteract": {
          "transient": {
            "deleting": false
          }
        }
      },
      "outputs": [],
      "source": [
        "base_data = data_label[\"labels\"]\n",
        "\n",
        "#Parse original output\n",
        "page_list2, text_list2,bb_list2, level_cat = parse_text_labels(base_data)\n",
        "\n",
        "# Format text into target format per page\n",
        "df2 = pd.DataFrame([page_list2, text_list2,bb_list2, level_cat]).T\n",
        "df2.columns = [\"page\", \"text\",\"bbox\", \"level\"]\n",
        "df_label = df2.copy()\n",
        "\n",
        "# convert bounding boxes\n",
        "df_label[\"bbox_formatted\"] = [convert_inches_pixel_normalized_vector(list(df_label[\"bbox\"].iloc[i]), pixel_conv_x=width, pixel_conv_y=height) for i in range(len(df_label))]\n",
        "\n",
        "\n",
        "# Iterate by page\n",
        "text_by_page_formatted_label = []\n",
        "for i in df_label[\"page\"].unique():\n",
        "    df_label_page= df_label[df_label.page == i]\n",
        "    text_by_page_formatted_label.append([format_json_sublevel_label(df_label_page, u) for u in range(len(df_label_page))])"
      ]
    },
    {
      "cell_type": "code",
      "execution_count": null,
      "metadata": {
        "gather": {
          "logged": 1668060637889
        },
        "jupyter": {
          "outputs_hidden": false,
          "source_hidden": false
        },
        "nteract": {
          "transient": {
            "deleting": false
          }
        }
      },
      "outputs": [],
      "source": [
        "# #CREATE CONSISTENCY FOR THE CATEGORIES DURING LABELLING\n",
        "# category_mapping = {\"\"}\n",
        "\n",
        "# df_label = df_label.replace({\"level\": category_mapping})"
      ]
    },
    {
      "cell_type": "code",
      "execution_count": null,
      "metadata": {
        "gather": {
          "logged": 1668060645055
        },
        "jupyter": {
          "outputs_hidden": false,
          "source_hidden": false
        },
        "nteract": {
          "transient": {
            "deleting": false
          }
        }
      },
      "outputs": [],
      "source": [
        "combined_df = df.merge(df_label, how=\"outer\", left_on=\"level\", right_on=\"level\", suffixes=[\"_predicted\", \"_ground_truth\"]).drop(columns=[\"bbox_predicted\", \"bbox_ground_truth\"])\n"
      ]
    },
    {
      "cell_type": "code",
      "execution_count": null,
      "metadata": {
        "gather": {
          "logged": 1668060646190
        },
        "jupyter": {
          "outputs_hidden": false,
          "source_hidden": false
        },
        "nteract": {
          "transient": {
            "deleting": false
          }
        }
      },
      "outputs": [],
      "source": [
        "tt = combined_df[['text_ground_truth','level']].fillna(\" \")\n",
        "tt = tt.groupby(['level'], as_index=False).agg({'text_ground_truth': ' '.join})\n",
        "tt = tt.merge(df, how=\"outer\", left_on=\"level\", right_on=\"level\")\n",
        "tt = tt.fillna(\" \")\n",
        "tt[\"word_similarity\"] = [fuzzy_score(tt[\"text_ground_truth\"][i], tt[\"text\"][i]) for i in range(len(tt))]\n",
        "tt"
      ]
    }
  ],
  "metadata": {
    "kernel_info": {
      "name": "python3"
    },
    "kernelspec": {
      "display_name": "Python 3 (ipykernel)",
      "language": "python",
      "name": "python3"
    },
    "language_info": {
      "codemirror_mode": {
        "name": "ipython",
        "version": 3
      },
      "file_extension": ".py",
      "mimetype": "text/x-python",
      "name": "python",
      "nbconvert_exporter": "python",
      "pygments_lexer": "ipython3",
      "version": "3.9.13 (tags/v3.9.13:6de2ca5, May 17 2022, 16:36:42) [MSC v.1929 64 bit (AMD64)]"
    },
    "microsoft": {
      "host": {
        "AzureML": {
          "notebookHasBeenCompleted": true
        }
      }
    },
    "nteract": {
      "version": "nteract-front-end@1.0.0"
    },
    "vscode": {
      "interpreter": {
        "hash": "7013818eacae818f3940355a4bc23a5b5e4daa7053faee37a40d29ac79fa390b"
      }
    }
  },
  "nbformat": 4,
  "nbformat_minor": 2
}
