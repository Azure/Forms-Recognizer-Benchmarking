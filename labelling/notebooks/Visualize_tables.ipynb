{
 "cells": [
  {
   "cell_type": "code",
   "execution_count": null,
   "id": "495ec921-c704-4757-9c2b-0b38e5449658",
   "metadata": {},
   "outputs": [],
   "source": [
    "import json\n",
    "from pathlib import Path\n",
    "from pdf2image import convert_from_path\n",
    "from PIL import ImageFont, ImageDraw, Image\n",
    "import matplotlib.pyplot as plt\n",
    "import glob"
   ]
  },
  {
   "cell_type": "code",
   "execution_count": null,
   "id": "dfd6d4c7-08ad-49a9-88a4-b03119c7034d",
   "metadata": {},
   "outputs": [],
   "source": [
    "doc_path = f'../../ocr_downsized/'\n",
    "post_conversion_ocrs_path = f'../post_conversion_ocr/'\n",
    "post_conversion_labels_path = f'../post_conversion_label/'"
   ]
  },
  {
   "cell_type": "code",
   "execution_count": null,
   "id": "5e3611b9-861e-4fcf-933f-e468718f05a8",
   "metadata": {},
   "outputs": [],
   "source": [
    "available_ocrs = [f.name[:-5] for f in Path(post_conversion_ocrs_path).glob('*.json')]\n",
    "available_labels = [f.name[:-11] for f in Path(post_conversion_labels_path).glob('*.json')]\n",
    "\n",
    "image_list_ocrs = [f.name for f in Path(doc_path).glob('*.JPG') if f.name[:-4] in available_ocrs]\n",
    "image_list_labels = [f.name for f in Path(doc_path).glob('*.JPG') if f.name[:-4] in available_labels]"
   ]
  },
  {
   "cell_type": "markdown",
   "id": "6f00fed9-d6f9-465f-8116-24dbae08f5a7",
   "metadata": {},
   "source": [
    "## Visualise OCRed images\n",
    "\n",
    "You may need to install poppler. Please follow: https://stackoverflow.com/questions/53481088/poppler-in-path-for-pdf2image"
   ]
  },
  {
   "cell_type": "code",
   "execution_count": null,
   "id": "961a14d9-7b94-4422-96a1-ef15d52999f6",
   "metadata": {
    "tags": []
   },
   "outputs": [],
   "source": [
    "for img_name in image_list_ocrs:\n",
    "    pdf_images = img_name\n",
    "\n",
    "    with open(Path(post_conversion_ocrs_path, f'{img_name[:-4]}.json'), 'rb') as f:\n",
    "        ocr_output = json.load(f)\n",
    "\n",
    "    i = 0\n",
    "\n",
    "    page_image = doc_path + pdf_images\n",
    "    img = Image.open(page_image, mode=\"r\", formats=None)\n",
    "    draw = ImageDraw.Draw(img)\n",
    "\n",
    "        \n",
    "    if i%2 == 0:\n",
    "        fig = plt.figure(figsize=(20,20), dpi=150)\n",
    "        i = 0\n",
    "        \n",
    "        \n",
    "    for idx, item in enumerate(ocr_output[0]):\n",
    "        #print(item)\n",
    "        cell_bbox = item['bbox']\n",
    "        \n",
    "        if idx == 0:\n",
    "            draw.text(\n",
    "                (cell_bbox[0], cell_bbox[1] - 30), \n",
    "                f'Doc num: {idx}', \n",
    "                # font = font , \n",
    "                fill = (255, 0, 0)\n",
    "            )\n",
    "        \n",
    "        draw.rectangle(\n",
    "            (\n",
    "                cell_bbox[0], \n",
    "                cell_bbox[1], \n",
    "                cell_bbox[0]+cell_bbox[2]+1, \n",
    "                cell_bbox[1]+cell_bbox[3]\n",
    "            ),\n",
    "            fill=None,\n",
    "            outline=(0, 0, 255),\n",
    "            width=3\n",
    "        )\n",
    "\n",
    "        draw.text(\n",
    "            (cell_bbox[0], cell_bbox[1]-10), \n",
    "            f'value: {item[\"text\"]}', \n",
    "            fill = (255, 0, 0),\n",
    "            #font=font\n",
    "        )\n",
    "        \n",
    "    i += 1\n",
    "    fig.add_subplot(1, 2, i)\n",
    "    plt.imshow(img)\n",
    "        \n",
    "plt.show()\n",
    "                \n",
    "        \n",
    "    \n",
    "    "
   ]
  },
  {
   "cell_type": "markdown",
   "id": "6950b9dc",
   "metadata": {},
   "source": [
    "## Visualise labeled images"
   ]
  },
  {
   "cell_type": "code",
   "execution_count": null,
   "id": "21d81506",
   "metadata": {},
   "outputs": [],
   "source": [
    "for img_name in image_list_labels:\n",
    "    pdf_images = img_name\n",
    "    print(img_name)\n",
    "\n",
    "    with open(Path(post_conversion_labels_path, f'{img_name[:-4]}_label.json'), 'rb') as f:\n",
    "        ocr_output = json.load(f)\n",
    "\n",
    "    i = 0\n",
    "\n",
    "    page_image = doc_path + pdf_images\n",
    "    img = Image.open(page_image, mode=\"r\", formats=None)\n",
    "    draw = ImageDraw.Draw(img)\n",
    "\n",
    "        \n",
    "    if i%2 == 0:\n",
    "        fig = plt.figure(figsize=(20,20), dpi=150)\n",
    "        i = 0\n",
    "        \n",
    "        \n",
    "    for idx, item in enumerate(ocr_output[0]):\n",
    "        #print(item)\n",
    "        cell_bbox = item['bbox'] #rescale_bbox(item[idx]['bbox'], 100/500)\n",
    "        \n",
    "        if idx == 0:\n",
    "            draw.text(\n",
    "                (cell_bbox[0], cell_bbox[1] - 30), \n",
    "                f'Doc num: {idx}', \n",
    "                # font = font , \n",
    "                fill = (255, 0, 0)\n",
    "            )\n",
    "        \n",
    "        draw.rectangle(\n",
    "            (\n",
    "                cell_bbox[0], \n",
    "                cell_bbox[1], \n",
    "                cell_bbox[0]+cell_bbox[2]+1, \n",
    "                cell_bbox[1]+cell_bbox[3]\n",
    "            ),\n",
    "            fill=None,\n",
    "            outline=(0, 0, 255),\n",
    "            width=3\n",
    "        )\n",
    "\n",
    "        draw.text(\n",
    "            (cell_bbox[0], cell_bbox[1]-10), \n",
    "            f'value: {item[\"text\"]}', \n",
    "            fill = (255, 0, 0),\n",
    "            #font=font\n",
    "        )\n",
    "        \n",
    "    i += 1\n",
    "    fig.add_subplot(1, 2, i)\n",
    "    plt.imshow(img)\n",
    "        \n",
    "plt.show()\n",
    "                \n",
    "        \n",
    "    \n",
    "    "
   ]
  }
 ],
 "metadata": {
  "kernelspec": {
   "display_name": "Python 3.9.13 64-bit (windows store)",
   "language": "python",
   "name": "python3"
  },
  "language_info": {
   "codemirror_mode": {
    "name": "ipython",
    "version": 3
   },
   "file_extension": ".py",
   "mimetype": "text/x-python",
   "name": "python",
   "nbconvert_exporter": "python",
   "pygments_lexer": "ipython3",
   "version": "3.9.13"
  },
  "vscode": {
   "interpreter": {
    "hash": "7013818eacae818f3940355a4bc23a5b5e4daa7053faee37a40d29ac79fa390b"
   }
  }
 },
 "nbformat": 4,
 "nbformat_minor": 5
}
